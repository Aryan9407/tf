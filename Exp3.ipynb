{
 "cells": [
  {
   "cell_type": "code",
   "execution_count": 1,
   "id": "e8e8222d-74f5-436a-a678-2f887c95945b",
   "metadata": {},
   "outputs": [],
   "source": [
    "#NAME : Aryan Saxena\n",
    "#ROLL NO : U21EC068\n",
    "import numpy as np\n",
    "import pandas as pd\n",
    "import matplotlib.pyplot as plt\n",
    "from sklearn.datasets import load_iris\n",
    "from sklearn.model_selection import train_test_split\n",
    "from sklearn.metrics import confusion_matrix, accuracy_score"
   ]
  },
  {
   "cell_type": "code",
   "execution_count": 2,
   "id": "31e1e634-3b45-481c-83e0-3dbc6c4b1b6e",
   "metadata": {},
   "outputs": [],
   "source": [
    "# Load the Iris dataset\n",
    "data = load_iris()\n",
    "x, y = data.data, data.target"
   ]
  },
  {
   "cell_type": "code",
   "execution_count": 3,
   "id": "0042766d-0a19-4b9e-8cb1-18365a093ef0",
   "metadata": {},
   "outputs": [
    {
     "name": "stdout",
     "output_type": "stream",
     "text": [
      "Training data shape: (120, 4)\n",
      "Testing data shape: (30, 4)\n"
     ]
    }
   ],
   "source": [
    "# Split the data into training and testing sets\n",
    "x_train, x_test, y_train, y_test = train_test_split(x, y, test_size=0.2,random_state=42)\n",
    "print(f'Training data shape: {x_train.shape}')\n",
    "print(f'Testing data shape: {x_test.shape}')\n"
   ]
  },
  {
   "cell_type": "code",
   "execution_count": 4,
   "id": "a131410d-df77-4ad7-94cb-64b3d7e0b907",
   "metadata": {},
   "outputs": [
    {
     "name": "stdout",
     "output_type": "stream",
     "text": [
      "Class summaries: {0: (array([4.99  , 3.4525, 1.45  , 0.245 ]), array([0.1239    , 0.15249375, 0.033     , 0.010975  ])), 1: (array([5.9195122 , 2.77073171, 4.24146341, 1.32195122]), array([0.28693635, 0.10011898, 0.22584176, 0.04122546])), 2: (array([6.53333333, 2.96666667, 5.52051282, 2.        ]), array([0.4165812 , 0.0991453 , 0.28573307, 0.08205128]))}\n"
     ]
    }
   ],
   "source": [
    "# Summarize class statistics (mean and variance)\n",
    "class_summaries = {}\n",
    "for class_value in np.unique(y_train):\n",
    "    x_class = x_train[y_train == class_value]\n",
    "    means = np.mean(x_class, axis=0)\n",
    "    variances = np.var(x_class, axis=0)\n",
    "    class_summaries[class_value] = (means, variances)\n",
    "print(\"Class summaries:\", class_summaries)"
   ]
  },
  {
   "cell_type": "code",
   "execution_count": 5,
   "id": "c1be7ee8-0c35-47be-8b1f-7cb3bb3ae890",
   "metadata": {},
   "outputs": [],
   "source": [
    "# Define function to calculate Gaussian probability\n",
    "def gaussian_probability(x, mean, var):\n",
    "    e = np.exp(-((x - mean) ** 2) / (2 * var))\n",
    "    return (1 / np.sqrt(2 * np.pi * var)) * e"
   ]
  },
  {
   "cell_type": "code",
   "execution_count": 6,
   "id": "1f101f54-2e19-4ac7-b0ab-e76252378719",
   "metadata": {},
   "outputs": [
    {
     "name": "stdout",
     "output_type": "stream",
     "text": [
      "Predictions: [1, 0, 2, 1, 1, 0, 1, 2, 1, 1, 2, 0, 0, 0, 0, 1, 2, 1, 1, 2, 0, 2, 0, 2, 2, 2, 2, 2, 0, 0]\n",
      "Accuracy: 100.00%\n"
     ]
    }
   ],
   "source": [
    "# Make predictions on the test data\n",
    "predictions = []\n",
    "for x in x_test:\n",
    "    class_probs = {}\n",
    "    for class_value, (means, variances) in class_summaries.items():\n",
    "        class_probs[class_value] = 1\n",
    "        for i in range(len(x)):\n",
    "            class_probs[class_value] *= gaussian_probability(x[i], means[i], variances[i])\n",
    "    predicted_class = max(class_probs, key=class_probs.get)\n",
    "    predictions.append(predicted_class)\n",
    "print(\"Predictions:\", predictions)\n",
    "accuracy = np.mean(np.array(predictions) == y_test) * 100\n",
    "print(f\"Accuracy: {accuracy:.2f}%\")"
   ]
  },
  {
   "cell_type": "code",
   "execution_count": 7,
   "id": "49495781-11e1-406e-9e83-14c867e75217",
   "metadata": {},
   "outputs": [
    {
     "data": {
      "text/plain": [
       "array([[10,  0,  0],\n",
       "       [ 0,  9,  0],\n",
       "       [ 0,  0, 11]], dtype=int64)"
      ]
     },
     "execution_count": 7,
     "metadata": {},
     "output_type": "execute_result"
    }
   ],
   "source": [
    "# Generate and display confusion matrix\n",
    "cm = confusion_matrix(y_test, predictions)\n",
    "cm"
   ]
  }
 ],
 "metadata": {
  "kernelspec": {
   "display_name": "Python 3 (ipykernel)",
   "language": "python",
   "name": "python3"
  },
  "language_info": {
   "codemirror_mode": {
    "name": "ipython",
    "version": 3
   },
   "file_extension": ".py",
   "mimetype": "text/x-python",
   "name": "python",
   "nbconvert_exporter": "python",
   "pygments_lexer": "ipython3",
   "version": "3.10.0"
  }
 },
 "nbformat": 4,
 "nbformat_minor": 5
}
