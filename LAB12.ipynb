{
  "nbformat": 4,
  "nbformat_minor": 0,
  "metadata": {
    "colab": {
      "provenance": [],
      "gpuType": "T4"
    },
    "kernelspec": {
      "name": "python3",
      "display_name": "Python 3"
    },
    "language_info": {
      "name": "python"
    },
    "accelerator": "GPU"
  },
  "cells": [
    {
      "cell_type": "markdown",
      "source": [
        "Aryan Saxena\n",
        "\n",
        "U21EC068"
      ],
      "metadata": {
        "id": "KsWhsNA5xWTa"
      }
    },
    {
      "cell_type": "code",
      "source": [
        "import numpy as np\n",
        "import matplotlib.pyplot as plt\n",
        "import pandas as pd\n",
        "import tensorflow as tf\n",
        "from tensorflow.keras.models import Sequential\n",
        "from tensorflow.keras.layers import Dense\n",
        "from tensorflow.keras.layers import LSTM\n",
        "from sklearn.preprocessing import MinMaxScaler\n",
        "from sklearn.metrics import mean_squared_error"
      ],
      "metadata": {
        "id": "CCTGEVz1xZVe"
      },
      "execution_count": null,
      "outputs": []
    },
    {
      "cell_type": "code",
      "source": [
        "# fix random seed for reproducibility\n",
        "tf.random.set_seed(7)"
      ],
      "metadata": {
        "id": "nUBZRuyW1rQT"
      },
      "execution_count": null,
      "outputs": []
    },
    {
      "cell_type": "code",
      "source": [
        "# load the dataset\n",
        "dataframe = pd.read_csv('airline-passengers.csv', usecols=[1], engine='python')\n",
        "dataset = dataframe.values\n",
        "dataset = dataset.astype('float32')"
      ],
      "metadata": {
        "id": "0sT8pal4zNRd"
      },
      "execution_count": null,
      "outputs": []
    },
    {
      "cell_type": "code",
      "source": [
        "# normalize the dataset\n",
        "scaler = MinMaxScaler(feature_range=(0, 1))\n",
        "dataset = scaler.fit_transform(dataset)"
      ],
      "metadata": {
        "id": "4UiWJJwyzp8F"
      },
      "execution_count": null,
      "outputs": []
    },
    {
      "cell_type": "code",
      "source": [
        "# split into train and test sets\n",
        "train_size = int(len(dataset) * 0.67)\n",
        "test_size = len(dataset) - train_size\n",
        "train, test = dataset[0:train_size,:], dataset[train_size:len(dataset),:]\n",
        "print(len(train), len(test))"
      ],
      "metadata": {
        "colab": {
          "base_uri": "https://localhost:8080/"
        },
        "id": "mwAg_zmg0IFh",
        "outputId": "038c1fd0-5286-455d-ccac-9f33769a61df"
      },
      "execution_count": null,
      "outputs": [
        {
          "output_type": "stream",
          "name": "stdout",
          "text": [
            "96 48\n"
          ]
        }
      ]
    },
    {
      "cell_type": "code",
      "source": [
        "# convert an array of values into a dataset matrix\n",
        "def create_dataset(dataset, look_back=1):\n",
        "\tdataX, dataY = [], []\n",
        "\tfor i in range(len(dataset)-look_back-1):\n",
        "\t\ta = dataset[i:(i+look_back), 0]\n",
        "\t\tdataX.append(a)\n",
        "\t\tdataY.append(dataset[i + look_back, 0])\n",
        "\treturn np.array(dataX), np.array(dataY)"
      ],
      "metadata": {
        "id": "80RawVy80SRP"
      },
      "execution_count": null,
      "outputs": []
    },
    {
      "cell_type": "code",
      "source": [
        "# reshape into X=t and Y=t+1\n",
        "look_back = 1\n",
        "trainX, trainY = create_dataset(train, look_back)\n",
        "testX, testY = create_dataset(test, look_back)"
      ],
      "metadata": {
        "id": "n1ofHSwo0dmJ"
      },
      "execution_count": null,
      "outputs": []
    },
    {
      "cell_type": "code",
      "source": [
        "# reshape input to be [samples, time steps, features]\n",
        "trainX = np.reshape(trainX, (trainX.shape[0], 1, trainX.shape[1]))\n",
        "testX = np.reshape(testX, (testX.shape[0], 1, testX.shape[1]))"
      ],
      "metadata": {
        "id": "3WTRtkvV0ia5"
      },
      "execution_count": null,
      "outputs": []
    },
    {
      "cell_type": "code",
      "source": [
        "# create and fit the LSTM network\n",
        "model = Sequential()\n",
        "model.add(LSTM(4, input_shape=(1, look_back)))\n",
        "model.add(Dense(1))\n",
        "model.add(Dense(1))\n",
        "model.compile(loss='mean_squared_error', optimizer='adam')\n",
        "model.fit(trainX, trainY, epochs=100, batch_size=1, verbose=2)"
      ],
      "metadata": {
        "colab": {
          "base_uri": "https://localhost:8080/"
        },
        "id": "9e5RLZi90lQv",
        "outputId": "8c23d51e-34c1-4ea6-fad0-c6c3bbaaac79"
      },
      "execution_count": null,
      "outputs": [
        {
          "output_type": "stream",
          "name": "stdout",
          "text": [
            "Epoch 1/100\n"
          ]
        },
        {
          "output_type": "stream",
          "name": "stderr",
          "text": [
            "/usr/local/lib/python3.10/dist-packages/keras/src/layers/rnn/rnn.py:204: UserWarning: Do not pass an `input_shape`/`input_dim` argument to a layer. When using Sequential models, prefer using an `Input(shape)` object as the first layer in the model instead.\n",
            "  super().__init__(**kwargs)\n"
          ]
        },
        {
          "output_type": "stream",
          "name": "stdout",
          "text": [
            "94/94 - 2s - 20ms/step - loss: 0.0353\n",
            "Epoch 2/100\n",
            "94/94 - 1s - 6ms/step - loss: 0.0177\n",
            "Epoch 3/100\n",
            "94/94 - 0s - 3ms/step - loss: 0.0159\n",
            "Epoch 4/100\n",
            "94/94 - 0s - 4ms/step - loss: 0.0144\n",
            "Epoch 5/100\n",
            "94/94 - 0s - 3ms/step - loss: 0.0128\n",
            "Epoch 6/100\n",
            "94/94 - 0s - 3ms/step - loss: 0.0112\n",
            "Epoch 7/100\n",
            "94/94 - 0s - 3ms/step - loss: 0.0096\n",
            "Epoch 8/100\n",
            "94/94 - 0s - 3ms/step - loss: 0.0080\n",
            "Epoch 9/100\n",
            "94/94 - 0s - 3ms/step - loss: 0.0065\n",
            "Epoch 10/100\n",
            "94/94 - 0s - 3ms/step - loss: 0.0051\n",
            "Epoch 11/100\n",
            "94/94 - 0s - 3ms/step - loss: 0.0041\n",
            "Epoch 12/100\n",
            "94/94 - 0s - 3ms/step - loss: 0.0033\n",
            "Epoch 13/100\n",
            "94/94 - 0s - 3ms/step - loss: 0.0027\n",
            "Epoch 14/100\n",
            "94/94 - 0s - 3ms/step - loss: 0.0024\n",
            "Epoch 15/100\n",
            "94/94 - 0s - 3ms/step - loss: 0.0022\n",
            "Epoch 16/100\n",
            "94/94 - 0s - 3ms/step - loss: 0.0021\n",
            "Epoch 17/100\n",
            "94/94 - 0s - 3ms/step - loss: 0.0021\n",
            "Epoch 18/100\n",
            "94/94 - 0s - 3ms/step - loss: 0.0021\n",
            "Epoch 19/100\n",
            "94/94 - 0s - 3ms/step - loss: 0.0021\n",
            "Epoch 20/100\n",
            "94/94 - 0s - 3ms/step - loss: 0.0021\n",
            "Epoch 21/100\n",
            "94/94 - 0s - 3ms/step - loss: 0.0021\n",
            "Epoch 22/100\n",
            "94/94 - 0s - 3ms/step - loss: 0.0021\n",
            "Epoch 23/100\n",
            "94/94 - 0s - 3ms/step - loss: 0.0021\n",
            "Epoch 24/100\n",
            "94/94 - 0s - 3ms/step - loss: 0.0021\n",
            "Epoch 25/100\n",
            "94/94 - 0s - 3ms/step - loss: 0.0021\n",
            "Epoch 26/100\n",
            "94/94 - 0s - 3ms/step - loss: 0.0021\n",
            "Epoch 27/100\n",
            "94/94 - 0s - 3ms/step - loss: 0.0021\n",
            "Epoch 28/100\n",
            "94/94 - 0s - 3ms/step - loss: 0.0021\n",
            "Epoch 29/100\n",
            "94/94 - 0s - 3ms/step - loss: 0.0021\n",
            "Epoch 30/100\n",
            "94/94 - 0s - 3ms/step - loss: 0.0021\n",
            "Epoch 31/100\n",
            "94/94 - 0s - 3ms/step - loss: 0.0021\n",
            "Epoch 32/100\n",
            "94/94 - 0s - 3ms/step - loss: 0.0021\n",
            "Epoch 33/100\n",
            "94/94 - 0s - 3ms/step - loss: 0.0021\n",
            "Epoch 34/100\n",
            "94/94 - 0s - 3ms/step - loss: 0.0021\n",
            "Epoch 35/100\n",
            "94/94 - 0s - 3ms/step - loss: 0.0021\n",
            "Epoch 36/100\n",
            "94/94 - 0s - 3ms/step - loss: 0.0021\n",
            "Epoch 37/100\n",
            "94/94 - 0s - 3ms/step - loss: 0.0021\n",
            "Epoch 38/100\n",
            "94/94 - 1s - 7ms/step - loss: 0.0021\n",
            "Epoch 39/100\n",
            "94/94 - 1s - 7ms/step - loss: 0.0021\n",
            "Epoch 40/100\n",
            "94/94 - 0s - 4ms/step - loss: 0.0021\n",
            "Epoch 41/100\n",
            "94/94 - 1s - 6ms/step - loss: 0.0021\n",
            "Epoch 42/100\n",
            "94/94 - 0s - 3ms/step - loss: 0.0021\n",
            "Epoch 43/100\n",
            "94/94 - 0s - 3ms/step - loss: 0.0021\n",
            "Epoch 44/100\n",
            "94/94 - 0s - 3ms/step - loss: 0.0021\n",
            "Epoch 45/100\n",
            "94/94 - 0s - 3ms/step - loss: 0.0021\n",
            "Epoch 46/100\n",
            "94/94 - 0s - 3ms/step - loss: 0.0021\n",
            "Epoch 47/100\n",
            "94/94 - 0s - 3ms/step - loss: 0.0021\n",
            "Epoch 48/100\n",
            "94/94 - 0s - 3ms/step - loss: 0.0021\n",
            "Epoch 49/100\n",
            "94/94 - 0s - 3ms/step - loss: 0.0021\n",
            "Epoch 50/100\n",
            "94/94 - 0s - 3ms/step - loss: 0.0021\n",
            "Epoch 51/100\n",
            "94/94 - 0s - 3ms/step - loss: 0.0021\n",
            "Epoch 52/100\n",
            "94/94 - 0s - 3ms/step - loss: 0.0021\n",
            "Epoch 53/100\n",
            "94/94 - 0s - 3ms/step - loss: 0.0021\n",
            "Epoch 54/100\n",
            "94/94 - 0s - 3ms/step - loss: 0.0021\n",
            "Epoch 55/100\n",
            "94/94 - 0s - 3ms/step - loss: 0.0021\n",
            "Epoch 56/100\n",
            "94/94 - 0s - 3ms/step - loss: 0.0021\n",
            "Epoch 57/100\n",
            "94/94 - 0s - 3ms/step - loss: 0.0021\n",
            "Epoch 58/100\n",
            "94/94 - 0s - 3ms/step - loss: 0.0021\n",
            "Epoch 59/100\n",
            "94/94 - 0s - 3ms/step - loss: 0.0021\n",
            "Epoch 60/100\n",
            "94/94 - 0s - 3ms/step - loss: 0.0021\n",
            "Epoch 61/100\n",
            "94/94 - 0s - 3ms/step - loss: 0.0021\n",
            "Epoch 62/100\n",
            "94/94 - 0s - 3ms/step - loss: 0.0021\n",
            "Epoch 63/100\n",
            "94/94 - 0s - 3ms/step - loss: 0.0021\n",
            "Epoch 64/100\n",
            "94/94 - 0s - 3ms/step - loss: 0.0021\n",
            "Epoch 65/100\n",
            "94/94 - 0s - 3ms/step - loss: 0.0021\n",
            "Epoch 66/100\n",
            "94/94 - 0s - 3ms/step - loss: 0.0021\n",
            "Epoch 67/100\n",
            "94/94 - 0s - 3ms/step - loss: 0.0021\n",
            "Epoch 68/100\n",
            "94/94 - 0s - 3ms/step - loss: 0.0021\n",
            "Epoch 69/100\n",
            "94/94 - 0s - 3ms/step - loss: 0.0021\n",
            "Epoch 70/100\n",
            "94/94 - 0s - 3ms/step - loss: 0.0021\n",
            "Epoch 71/100\n",
            "94/94 - 0s - 3ms/step - loss: 0.0021\n",
            "Epoch 72/100\n",
            "94/94 - 0s - 3ms/step - loss: 0.0021\n",
            "Epoch 73/100\n",
            "94/94 - 0s - 3ms/step - loss: 0.0021\n",
            "Epoch 74/100\n",
            "94/94 - 0s - 3ms/step - loss: 0.0021\n",
            "Epoch 75/100\n",
            "94/94 - 0s - 3ms/step - loss: 0.0021\n",
            "Epoch 76/100\n",
            "94/94 - 0s - 4ms/step - loss: 0.0021\n",
            "Epoch 77/100\n",
            "94/94 - 0s - 4ms/step - loss: 0.0021\n",
            "Epoch 78/100\n",
            "94/94 - 1s - 7ms/step - loss: 0.0021\n",
            "Epoch 79/100\n",
            "94/94 - 1s - 7ms/step - loss: 0.0021\n",
            "Epoch 80/100\n",
            "94/94 - 0s - 4ms/step - loss: 0.0021\n",
            "Epoch 81/100\n",
            "94/94 - 0s - 5ms/step - loss: 0.0021\n",
            "Epoch 82/100\n",
            "94/94 - 0s - 3ms/step - loss: 0.0021\n",
            "Epoch 83/100\n",
            "94/94 - 0s - 3ms/step - loss: 0.0021\n",
            "Epoch 84/100\n",
            "94/94 - 0s - 3ms/step - loss: 0.0021\n",
            "Epoch 85/100\n",
            "94/94 - 0s - 3ms/step - loss: 0.0021\n",
            "Epoch 86/100\n",
            "94/94 - 0s - 3ms/step - loss: 0.0021\n",
            "Epoch 87/100\n",
            "94/94 - 0s - 3ms/step - loss: 0.0021\n",
            "Epoch 88/100\n",
            "94/94 - 0s - 3ms/step - loss: 0.0021\n",
            "Epoch 89/100\n",
            "94/94 - 0s - 3ms/step - loss: 0.0021\n",
            "Epoch 90/100\n",
            "94/94 - 0s - 3ms/step - loss: 0.0021\n",
            "Epoch 91/100\n",
            "94/94 - 0s - 3ms/step - loss: 0.0021\n",
            "Epoch 92/100\n",
            "94/94 - 0s - 3ms/step - loss: 0.0021\n",
            "Epoch 93/100\n",
            "94/94 - 0s - 3ms/step - loss: 0.0021\n",
            "Epoch 94/100\n",
            "94/94 - 0s - 3ms/step - loss: 0.0021\n",
            "Epoch 95/100\n",
            "94/94 - 0s - 3ms/step - loss: 0.0021\n",
            "Epoch 96/100\n",
            "94/94 - 0s - 3ms/step - loss: 0.0021\n",
            "Epoch 97/100\n",
            "94/94 - 0s - 3ms/step - loss: 0.0021\n",
            "Epoch 98/100\n",
            "94/94 - 0s - 3ms/step - loss: 0.0021\n",
            "Epoch 99/100\n",
            "94/94 - 0s - 3ms/step - loss: 0.0021\n",
            "Epoch 100/100\n",
            "94/94 - 0s - 3ms/step - loss: 0.0021\n"
          ]
        },
        {
          "output_type": "execute_result",
          "data": {
            "text/plain": [
              "<keras.src.callbacks.history.History at 0x7f72109c03a0>"
            ]
          },
          "metadata": {},
          "execution_count": 52
        }
      ]
    },
    {
      "cell_type": "code",
      "source": [
        "# make predictions\n",
        "trainPredict = model.predict(trainX)\n",
        "testPredict = model.predict(testX)\n",
        "# invert predictions\n",
        "trainPredict = scaler.inverse_transform(trainPredict)\n",
        "trainY = scaler.inverse_transform([trainY])\n",
        "testPredict = scaler.inverse_transform(testPredict)\n",
        "testY = scaler.inverse_transform([testY])\n",
        "# calculate root mean squared error\n",
        "trainScore = np.sqrt(mean_squared_error(trainY[0], trainPredict[:,0]))\n",
        "print('Train Score: %.2f RMSE' % (trainScore))\n",
        "testScore = np.sqrt(mean_squared_error(testY[0], testPredict[:,0]))\n",
        "print('Test Score: %.2f RMSE' % (testScore))"
      ],
      "metadata": {
        "colab": {
          "base_uri": "https://localhost:8080/"
        },
        "id": "TkZsd5Bs001d",
        "outputId": "f50045e4-612f-432c-df08-36f7f15c2c26"
      },
      "execution_count": null,
      "outputs": [
        {
          "output_type": "stream",
          "name": "stdout",
          "text": [
            "\u001b[1m3/3\u001b[0m \u001b[32m━━━━━━━━━━━━━━━━━━━━\u001b[0m\u001b[37m\u001b[0m \u001b[1m0s\u001b[0m 45ms/step\n",
            "\u001b[1m2/2\u001b[0m \u001b[32m━━━━━━━━━━━━━━━━━━━━\u001b[0m\u001b[37m\u001b[0m \u001b[1m0s\u001b[0m 4ms/step \n",
            "Train Score: 22.68 RMSE\n",
            "Test Score: 50.09 RMSE\n"
          ]
        }
      ]
    },
    {
      "cell_type": "code",
      "source": [
        "# shift train predictions for plotting\n",
        "trainPredictPlot = np.empty_like(dataset)\n",
        "trainPredictPlot[:, :] = np.nan\n",
        "trainPredictPlot[look_back:len(trainPredict)+look_back, :] = trainPredict\n",
        "# shift test predictions for plotting\n",
        "testPredictPlot = np.empty_like(dataset)\n",
        "testPredictPlot[:, :] = np.nan\n",
        "testPredictPlot[len(trainPredict)+(look_back*2)+1:len(dataset)-1, :] = testPredict\n",
        "# plot baseline and predictions\n",
        "plt.plot(scaler.inverse_transform(dataset))\n",
        "plt.plot(trainPredictPlot)\n",
        "plt.plot(testPredictPlot)\n",
        "plt.show()"
      ],
      "metadata": {
        "colab": {
          "base_uri": "https://localhost:8080/",
          "height": 430
        },
        "id": "6_b45ETz081i",
        "outputId": "a9117ad8-b7bb-42be-8d85-c8405d44ebbd"
      },
      "execution_count": null,
      "outputs": [
        {
          "output_type": "display_data",
          "data": {
            "text/plain": [
              "<Figure size 640x480 with 1 Axes>"
            ],
            "image/png": "[encoded data removed]"
          },
          "metadata": {}
        }
      ]
    }
  ]
}